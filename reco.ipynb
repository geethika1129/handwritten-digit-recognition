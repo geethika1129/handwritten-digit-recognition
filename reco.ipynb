{
 "cells": [
  {
   "cell_type": "code",
   "execution_count": 1,
   "metadata": {},
   "outputs": [],
   "source": [
    "import keras\n",
    "from keras.datasets import mnist\n",
    "from keras.models import Sequential\n",
    "from keras.layers import Dense,Dropout,Flatten\n",
    "from keras.layers import Conv2D,MaxPooling2D\n",
    "from keras import backend as k"
   ]
  },
  {
   "cell_type": "code",
   "execution_count": 2,
   "metadata": {},
   "outputs": [],
   "source": [
    "(x_train, y_train), (x_test, y_test) = mnist.load_data()"
   ]
  },
  {
   "cell_type": "code",
   "execution_count": 3,
   "metadata": {},
   "outputs": [],
   "source": [
    "ntrain=x_train.shape[0]"
   ]
  },
  {
   "cell_type": "code",
   "execution_count": 4,
   "metadata": {},
   "outputs": [],
   "source": [
    "ntest=x_test.shape[0]"
   ]
  },
  {
   "cell_type": "code",
   "execution_count": 5,
   "metadata": {},
   "outputs": [],
   "source": [
    "iw=28\n",
    "ih=28"
   ]
  },
  {
   "cell_type": "code",
   "execution_count": 6,
   "metadata": {},
   "outputs": [],
   "source": [
    "x_train=x_train.reshape(x_train.shape[0],ih,iw,1)"
   ]
  },
  {
   "cell_type": "code",
   "execution_count": 7,
   "metadata": {},
   "outputs": [],
   "source": [
    "x_test=x_test.reshape(x_test.shape[0],ih,iw,1)"
   ]
  },
  {
   "cell_type": "code",
   "execution_count": 8,
   "metadata": {},
   "outputs": [],
   "source": [
    "input_shape=(ih,iw,1)"
   ]
  },
  {
   "cell_type": "code",
   "execution_count": 9,
   "metadata": {},
   "outputs": [],
   "source": [
    "x_train = x_train.astype('float32')\n",
    "x_test = x_test.astype('float32')\n",
    "x_train /= 255\n",
    "x_test /= 255"
   ]
  },
  {
   "cell_type": "code",
   "execution_count": 10,
   "metadata": {},
   "outputs": [],
   "source": [
    "#convert to binary vectors\n",
    "num_classes = 10\n",
    "y_train = keras.utils.to_categorical(y_train, num_classes)\n",
    "y_test = keras.utils.to_categorical(y_test, num_classes)"
   ]
  },
  {
   "cell_type": "code",
   "execution_count": 12,
   "metadata": {},
   "outputs": [],
   "source": [
    "#model architecture\n",
    "model = Sequential()\n",
    "model.add(Conv2D(32, kernel_size=(3, 3),\n",
    "                 activation='relu',\n",
    "                 input_shape=input_shape))\n",
    "model.add(Conv2D(64, (3, 3), activation='relu'))\n",
    "model.add(MaxPooling2D(pool_size=(2, 2)))\n",
    "model.add(Dropout(0.25))\n",
    "model.add(Flatten())\n",
    "model.add(Dense(128, activation='relu'))\n",
    "model.add(Dropout(0.5))\n",
    "model.add(Dense(num_classes, activation='softmax'))"
   ]
  },
  {
   "cell_type": "code",
   "execution_count": 13,
   "metadata": {},
   "outputs": [],
   "source": [
    "#compile the model\n",
    "model.compile(loss=keras.losses.categorical_crossentropy,\n",
    "              optimizer=keras.optimizers.Adadelta(),\n",
    "              metrics=['accuracy'])"
   ]
  },
  {
   "cell_type": "code",
   "execution_count": 14,
   "metadata": {},
   "outputs": [
    {
     "name": "stdout",
     "output_type": "stream",
     "text": [
      "Epoch 1/12\n",
      "469/469 [==============================] - 83s 166ms/step - loss: 2.2774 - accuracy: 0.1624 - val_loss: 2.2386 - val_accuracy: 0.4441\n",
      "Epoch 2/12\n",
      "469/469 [==============================] - 80s 171ms/step - loss: 2.2175 - accuracy: 0.2908 - val_loss: 2.1645 - val_accuracy: 0.6217\n",
      "Epoch 3/12\n",
      "469/469 [==============================] - 83s 177ms/step - loss: 2.1405 - accuracy: 0.3943 - val_loss: 2.0663 - val_accuracy: 0.6899\n",
      "Epoch 4/12\n",
      "469/469 [==============================] - 106s 226ms/step - loss: 2.0412 - accuracy: 0.4670 - val_loss: 1.9369 - val_accuracy: 0.7364\n",
      "Epoch 5/12\n",
      "469/469 [==============================] - 111s 237ms/step - loss: 1.9062 - accuracy: 0.5303 - val_loss: 1.7688 - val_accuracy: 0.7621\n",
      "Epoch 6/12\n",
      "469/469 [==============================] - 100s 214ms/step - loss: 1.7439 - accuracy: 0.5756 - val_loss: 1.5662 - val_accuracy: 0.7783\n",
      "Epoch 7/12\n",
      "469/469 [==============================] - 82s 174ms/step - loss: 1.5644 - accuracy: 0.6121 - val_loss: 1.3533 - val_accuracy: 0.7923\n",
      "Epoch 8/12\n",
      "469/469 [==============================] - 80s 171ms/step - loss: 1.3934 - accuracy: 0.6370 - val_loss: 1.1603 - val_accuracy: 0.8022\n",
      "Epoch 9/12\n",
      "469/469 [==============================] - 82s 175ms/step - loss: 1.2437 - accuracy: 0.6635 - val_loss: 1.0018 - val_accuracy: 0.8116\n",
      "Epoch 10/12\n",
      "469/469 [==============================] - 80s 170ms/step - loss: 1.1287 - accuracy: 0.6825 - val_loss: 0.8805 - val_accuracy: 0.8228\n",
      "Epoch 11/12\n",
      "469/469 [==============================] - 76s 161ms/step - loss: 1.0391 - accuracy: 0.7031 - val_loss: 0.7889 - val_accuracy: 0.8320\n",
      "Epoch 12/12\n",
      "469/469 [==============================] - 73s 155ms/step - loss: 0.9659 - accuracy: 0.7183 - val_loss: 0.7177 - val_accuracy: 0.8398\n"
     ]
    },
    {
     "data": {
      "text/plain": [
       "<keras.callbacks.History at 0x2814a798e80>"
      ]
     },
     "execution_count": 14,
     "metadata": {},
     "output_type": "execute_result"
    }
   ],
   "source": [
    "model.fit(x_train, y_train,\n",
    "          batch_size=128,\n",
    "          epochs=12,\n",
    "          verbose=1,\n",
    "          validation_data=(x_test, y_test))"
   ]
  },
  {
   "cell_type": "code",
   "execution_count": 15,
   "metadata": {},
   "outputs": [
    {
     "name": "stdout",
     "output_type": "stream",
     "text": [
      "Test loss: 0.7177227139472961\n",
      "Test accuracy: 0.8398000001907349\n"
     ]
    }
   ],
   "source": [
    "score = model.evaluate(x_test, y_test, verbose=0)\n",
    "print('Test loss:', score[0])\n",
    "print('Test accuracy:', score[1])"
   ]
  },
  {
   "cell_type": "code",
   "execution_count": 16,
   "metadata": {},
   "outputs": [],
   "source": [
    "model.save('tm.h5')"
   ]
  },
  {
   "cell_type": "code",
   "execution_count": null,
   "metadata": {},
   "outputs": [],
   "source": []
  }
 ],
 "metadata": {
  "kernelspec": {
   "display_name": "Python 3",
   "language": "python",
   "name": "python3"
  },
  "language_info": {
   "codemirror_mode": {
    "name": "ipython",
    "version": 3
   },
   "file_extension": ".py",
   "mimetype": "text/x-python",
   "name": "python",
   "nbconvert_exporter": "python",
   "pygments_lexer": "ipython3",
   "version": "3.10.2"
  },
  "orig_nbformat": 4,
  "vscode": {
   "interpreter": {
    "hash": "27f6fea6f47ae512550f0b8facdbd035a93e1dd89633f7bf2dd00a2502c71d0d"
   }
  }
 },
 "nbformat": 4,
 "nbformat_minor": 2
}
